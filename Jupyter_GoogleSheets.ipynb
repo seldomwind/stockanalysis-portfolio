{
 "cells": [
  {
   "cell_type": "code",
   "execution_count": 17,
   "id": "780d4f49-b235-4cab-9095-fa1fb97caca6",
   "metadata": {},
   "outputs": [],
   "source": [
    "import pandas as pd\n",
    "import gspread \n",
    "from oauth2client.service_account import ServiceAccountCredentials"
   ]
  },
  {
   "cell_type": "code",
   "execution_count": 18,
   "id": "be6c62b5-f921-4aca-8b82-ddcfaeca7f98",
   "metadata": {},
   "outputs": [],
   "source": [
    "scope = ['https://spreadsheets.google.com/feeds'] \n",
    "credentials = ServiceAccountCredentials.from_json_keyfile_name('./service_cred.json', scope)\n",
    "gc = gspread.authorize(credentials)"
   ]
  },
  {
   "cell_type": "code",
   "execution_count": 19,
   "id": "1d4eb567-6711-4680-a42b-b63fd6dd49c1",
   "metadata": {},
   "outputs": [],
   "source": [
    "spreadsheet_key = '1M1dnm5a9dyGdc5Mb4DMd2KgI_OXaHaCrWFggfDu3axA' \n",
    "book = gc.open_by_key(spreadsheet_key) \n",
    "worksheet = book.worksheet(\"AMZN\") \n",
    "table = worksheet.get_all_values()"
   ]
  },
  {
   "cell_type": "code",
   "execution_count": 23,
   "id": "f92fe0de-091d-481b-ab45-d647d752384b",
   "metadata": {},
   "outputs": [
    {
     "data": {
      "text/html": [
       "<div>\n",
       "<style scoped>\n",
       "    .dataframe tbody tr th:only-of-type {\n",
       "        vertical-align: middle;\n",
       "    }\n",
       "\n",
       "    .dataframe tbody tr th {\n",
       "        vertical-align: top;\n",
       "    }\n",
       "\n",
       "    .dataframe thead th {\n",
       "        text-align: right;\n",
       "    }\n",
       "</style>\n",
       "<table border=\"1\" class=\"dataframe\">\n",
       "  <thead>\n",
       "    <tr style=\"text-align: right;\">\n",
       "      <th></th>\n",
       "      <th>Date</th>\n",
       "      <th>AMZN</th>\n",
       "      <th>Date2</th>\n",
       "      <th>AMD</th>\n",
       "      <th>Date3</th>\n",
       "      <th>GOOG</th>\n",
       "    </tr>\n",
       "  </thead>\n",
       "  <tbody>\n",
       "    <tr>\n",
       "      <th>0</th>\n",
       "      <td>1/4/2021 16:00:00</td>\n",
       "      <td>159.33</td>\n",
       "      <td>1/4/2021 16:00:00</td>\n",
       "      <td>92.3</td>\n",
       "      <td>1/4/2021 16:00:00</td>\n",
       "      <td>1728.24</td>\n",
       "    </tr>\n",
       "    <tr>\n",
       "      <th>1</th>\n",
       "      <td>1/5/2021 16:00:00</td>\n",
       "      <td>160.93</td>\n",
       "      <td>1/5/2021 16:00:00</td>\n",
       "      <td>92.77</td>\n",
       "      <td>1/5/2021 16:00:00</td>\n",
       "      <td>1740.92</td>\n",
       "    </tr>\n",
       "    <tr>\n",
       "      <th>2</th>\n",
       "      <td>1/6/2021 16:00:00</td>\n",
       "      <td>156.92</td>\n",
       "      <td>1/6/2021 16:00:00</td>\n",
       "      <td>90.33</td>\n",
       "      <td>1/6/2021 16:00:00</td>\n",
       "      <td>1735.29</td>\n",
       "    </tr>\n",
       "    <tr>\n",
       "      <th>3</th>\n",
       "      <td>1/7/2021 16:00:00</td>\n",
       "      <td>158.11</td>\n",
       "      <td>1/7/2021 16:00:00</td>\n",
       "      <td>95.16</td>\n",
       "      <td>1/7/2021 16:00:00</td>\n",
       "      <td>1787.25</td>\n",
       "    </tr>\n",
       "    <tr>\n",
       "      <th>4</th>\n",
       "      <td>1/8/2021 16:00:00</td>\n",
       "      <td>159.14</td>\n",
       "      <td>1/8/2021 16:00:00</td>\n",
       "      <td>94.58</td>\n",
       "      <td>1/8/2021 16:00:00</td>\n",
       "      <td>1807.21</td>\n",
       "    </tr>\n",
       "  </tbody>\n",
       "</table>\n",
       "</div>"
      ],
      "text/plain": [
       "                Date    AMZN              Date2    AMD              Date3  \\\n",
       "0  1/4/2021 16:00:00  159.33  1/4/2021 16:00:00   92.3  1/4/2021 16:00:00   \n",
       "1  1/5/2021 16:00:00  160.93  1/5/2021 16:00:00  92.77  1/5/2021 16:00:00   \n",
       "2  1/6/2021 16:00:00  156.92  1/6/2021 16:00:00  90.33  1/6/2021 16:00:00   \n",
       "3  1/7/2021 16:00:00  158.11  1/7/2021 16:00:00  95.16  1/7/2021 16:00:00   \n",
       "4  1/8/2021 16:00:00  159.14  1/8/2021 16:00:00  94.58  1/8/2021 16:00:00   \n",
       "\n",
       "      GOOG  \n",
       "0  1728.24  \n",
       "1  1740.92  \n",
       "2  1735.29  \n",
       "3  1787.25  \n",
       "4  1807.21  "
      ]
     },
     "execution_count": 23,
     "metadata": {},
     "output_type": "execute_result"
    }
   ],
   "source": [
    "##Convert table data into a dataframe \n",
    "df = pd.DataFrame(table[1:], columns=table[0]) \n",
    "# ##Only keep columns we need \n",
    "df.columns = ['Date',\"AMZN\", \"Date2\", \"AMD\", \"Date3\", \"GOOG\"]\n",
    "# ##Convert number strings to floats and ints \n",
    "# df = df.apply(pd.to_numeric, errors='ignore') \n",
    "# ##Convert date strings to datetime format \n",
    "# df['Date'] = pd.to_datetime(df['Date'],infer_datetime_format=True)\n",
    "\n",
    "\n",
    "# df['Start Date'] = pd.to_datetime(df['Start Date'],infer_datetime_format=True)\n",
    "df.head()"
   ]
  },
  {
   "cell_type": "code",
   "execution_count": null,
   "id": "115ea7aa-8287-4cc9-9ac8-45d703058517",
   "metadata": {},
   "outputs": [],
   "source": []
  }
 ],
 "metadata": {
  "kernelspec": {
   "display_name": "Python 3 (ipykernel)",
   "language": "python",
   "name": "python3"
  },
  "language_info": {
   "codemirror_mode": {
    "name": "ipython",
    "version": 3
   },
   "file_extension": ".py",
   "mimetype": "text/x-python",
   "name": "python",
   "nbconvert_exporter": "python",
   "pygments_lexer": "ipython3",
   "version": "3.7.13"
  }
 },
 "nbformat": 4,
 "nbformat_minor": 5
}
