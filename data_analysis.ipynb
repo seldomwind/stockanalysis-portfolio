{
 "cells": [
  {
   "cell_type": "code",
   "execution_count": 131,
   "id": "207832cc-2d3b-4800-9e45-cc01b5ce0d8d",
   "metadata": {},
   "outputs": [],
   "source": [
    "#  evaluate the performance among various algorithmic, hedge, and mutual fund portfolios and compare them against the S&P 500 Index.\"\n",
    "#pct_change() percent change overtime\n",
    "    # Initial imports\n",
    "import pandas as pd\n",
    "import numpy as np\n",
    "import datetime as dt\n",
    "from pathlib import Path\n",
    "%matplotlib inline"
   ]
  },
  {
   "cell_type": "code",
   "execution_count": 132,
   "id": "251b6f07-ce1d-425f-8a7e-c3945d775479",
   "metadata": {},
   "outputs": [
    {
     "name": "stderr",
     "output_type": "stream",
     "text": [
      "C:\\ProgramData\\Anaconda3\\envs\\dev\\lib\\site-packages\\ipykernel_launcher.py:23: FutureWarning: The default value of regex will change from True to False in a future version. In addition, single character regular expressions will *not* be treated as literal strings when regex=True.\n"
     ]
    }
   ],
   "source": [
    "#  read the CSV files into DataFrames and perform any necessary data cleaning steps.\n",
    "\n",
    "#  \"* `whale_returns.csv`: Contains returns of some famous \\\"whale\\\" investors' portfolios.\\n\",\n",
    "whale_returns = Path(\"whale_returns.csv\")\n",
    "whale = pd.read_csv(\"whale_returns.csv\")\n",
    "whale.sort_index(ascending = True, inplace =True)\n",
    "\n",
    "\n",
    "\n",
    "#     \"* `algo_returns.csv`: Contains returns from the in-house trading algorithms from Harold's company.\\n\",\n",
    "algo_returns = Path(\"algo_returns.csv\")  \n",
    "algo = pd.read_csv(\"algo_returns.csv\")\n",
    "algo.sort_index(ascending = True, inplace =True)\n",
    "\n",
    "\n",
    "#`sp500_history.csv`: Contains historical closing prices of the S&P 500 Index.\"\n",
    "sp500_history = Path(\"sp500_history.csv\") \n",
    "#Change format of Date to mirror the other Csv files. index_col= identify col, parse_dates= change to year/month/day infer_datetime_format= infrence and chance to int\n",
    "sp500 = pd.read_csv(sp500_history, index_col = \"Date\", parse_dates = True,  infer_datetime_format= True)\n",
    "sp500.sort_index(ascending = True, inplace =True)\n",
    "\n",
    "# Check Data Types, Convert the S&P 500 closing prices to daily returns. .str necessary .replace remove $ .astype changes from str to float\n",
    "sp_clean = sp500[\"Close\"].str.replace(\"$\", \" \").astype(float)\n",
    "\n",
    "#pct_change transforms int or float based values into % changes from one value to next\n",
    "sp500_percent_change = sp_clean.pct_change()\n",
    "\n",
    "\n"
   ]
  },
  {
   "cell_type": "code",
   "execution_count": 133,
   "id": "e16c694a-e032-4bc3-ac97-1373bfe82948",
   "metadata": {},
   "outputs": [],
   "source": [
    "# Identify and remove null values \n",
    "whale.isnull().sum()\n",
    "whale.dropna(inplace = True)\n",
    "algo.isnull().sum()\n",
    "algo.dropna(inplace = True)\n",
    "sp500_percent_change.isnull().sum()\n",
    "sp500_percent_change.dropna(inplace = True)\n"
   ]
  },
  {
   "cell_type": "code",
   "execution_count": 134,
   "id": "300266ba-7d10-46ba-a38a-fb4bfcc8fe9c",
   "metadata": {},
   "outputs": [],
   "source": [
    "# Rename `Close` Column to be specific to this portfolio.\\n\" sp500_percent_change entered as a series. To change the name of the column of Close \n",
    "# we must convert it to a Dataframe. pd.series() then .to_frame() will convert our series to a Dataframe. reset_index removed the date from the index column and replaced\n",
    "#it with with a 0-range of our dataset. sp500_df now reflects the other Dataframes.\n",
    "sp500_series = pd.Series(sp500_percent_change)\n",
    "sp500_df = sp500_series.to_frame()\n",
    "sp500_df.reset_index(inplace=True)\n",
    "sp500_df = sp500_df.rename(columns = {0: \"Date\", \"Close\": \"S&P 500\"})"
   ]
  },
  {
   "cell_type": "code",
   "execution_count": null,
   "id": "ec6ef991-7f81-417e-b33b-8e6e8c0b368a",
   "metadata": {},
   "outputs": [],
   "source": []
  },
  {
   "cell_type": "code",
   "execution_count": 138,
   "id": "20324aed-e31c-4684-9e71-668acdd9e7c1",
   "metadata": {},
   "outputs": [],
   "source": [
    "# Join Whale Returns, Algorithmic Returns, and the S&P 500 Returns into a single DataFrame with columns for each portfolio's returns.\n",
    "df_combined = pd.concat([whale, sp500_df, algo], axis = 1 ) \n"
   ]
  },
  {
   "cell_type": "code",
   "execution_count": 139,
   "id": "590c72cb-ebd9-4666-b609-f5a966d3eaa9",
   "metadata": {},
   "outputs": [
    {
     "name": "stdout",
     "output_type": "stream",
     "text": [
      "            Date  SOROS FUND MANAGEMENT LLC  PAULSON & CO.INC.   \\\n",
      "0            NaN                        NaN                 NaN   \n",
      "1     2015-03-03                  -0.001266           -0.004981   \n",
      "2     2015-03-04                   0.002230            0.003241   \n",
      "3     2015-03-05                   0.004016            0.004076   \n",
      "4     2015-03-06                  -0.007905           -0.003574   \n",
      "...          ...                        ...                 ...   \n",
      "1643         NaN                        NaN                 NaN   \n",
      "1644         NaN                        NaN                 NaN   \n",
      "1645         NaN                        NaN                 NaN   \n",
      "1646         NaN                        NaN                 NaN   \n",
      "1647         NaN                        NaN                 NaN   \n",
      "\n",
      "      TIGER GLOBAL MANAGEMENT LLC  BERKSHIRE HATHAWAY INC       Date  \\\n",
      "0                             NaN                     NaN 2012-10-02   \n",
      "1                       -0.000496               -0.006569 2012-10-03   \n",
      "2                       -0.002534                0.004213 2012-10-04   \n",
      "3                        0.002355                0.006726 2012-10-05   \n",
      "4                       -0.008481               -0.013098 2012-10-08   \n",
      "...                           ...                     ...        ...   \n",
      "1643                          NaN                     NaN 2019-04-16   \n",
      "1644                          NaN                     NaN 2019-04-17   \n",
      "1645                          NaN                     NaN 2019-04-18   \n",
      "1646                          NaN                     NaN 2019-04-22   \n",
      "1647                          NaN                     NaN 2019-04-23   \n",
      "\n",
      "       S&P 500 Date  Algo 1  Algo 2  \n",
      "0     0.000872  NaN     NaN     NaN  \n",
      "1     0.003624  NaN     NaN     NaN  \n",
      "2     0.007174  NaN     NaN     NaN  \n",
      "3    -0.000322  NaN     NaN     NaN  \n",
      "4    -0.003457  NaN     NaN     NaN  \n",
      "...        ...  ...     ...     ...  \n",
      "1643  0.000509  NaN     NaN     NaN  \n",
      "1644 -0.002274  NaN     NaN     NaN  \n",
      "1645  0.001579  NaN     NaN     NaN  \n",
      "1646  0.001012  NaN     NaN     NaN  \n",
      "1647  0.008841  NaN     NaN     NaN  \n",
      "\n",
      "[1648 rows x 10 columns]\n"
     ]
    }
   ],
   "source": [
    "print(df_combined)"
   ]
  },
  {
   "cell_type": "code",
   "execution_count": 140,
   "id": "6bd2700b-dd4a-4fd0-8581-b6ab03bd19ca",
   "metadata": {},
   "outputs": [],
   "source": [
    "df_combined.dropna(inplace = True)"
   ]
  },
  {
   "cell_type": "code",
   "execution_count": 142,
   "id": "d464a04c-5dd9-44eb-b36f-5b02a34843af",
   "metadata": {},
   "outputs": [
    {
     "data": {
      "text/plain": [
       "<AxesSubplot:>"
      ]
     },
     "execution_count": 142,
     "metadata": {},
     "output_type": "execute_result"
    },
    {
     "data": {
      "image/png": "[encoded data removed]",
      "text/plain": [
       "<Figure size 1440x720 with 1 Axes>"
      ]
     },
     "metadata": {
      "needs_background": "light"
     },
     "output_type": "display_data"
    }
   ],
   "source": [
    "df_combined.plot( figsize = (20,10))"
   ]
  },
  {
   "cell_type": "code",
   "execution_count": null,
   "id": "47194698-0b01-4a79-8d78-79ba9ae8b71f",
   "metadata": {},
   "outputs": [],
   "source": []
  },
  {
   "cell_type": "code",
   "execution_count": null,
   "id": "654aaf8a-1393-465e-868e-386acf601ad2",
   "metadata": {},
   "outputs": [],
   "source": []
  },
  {
   "cell_type": "code",
   "execution_count": null,
   "id": "7823f093-3fa5-4f1a-a65e-d490bd9a6f28",
   "metadata": {},
   "outputs": [],
   "source": []
  },
  {
   "cell_type": "code",
   "execution_count": null,
   "id": "946c0e5b-37c7-49d6-88ec-622ccf2a1cae",
   "metadata": {},
   "outputs": [],
   "source": []
  },
  {
   "cell_type": "code",
   "execution_count": null,
   "id": "ddd47157-8215-4901-a1ea-d41cf33b5598",
   "metadata": {},
   "outputs": [],
   "source": []
  },
  {
   "cell_type": "code",
   "execution_count": 143,
   "id": "59f8d387-a869-4f26-840d-8519e61bb190",
   "metadata": {},
   "outputs": [],
   "source": [
    "df_combined.to_csv(r'C:\\Users\\Admin\\Desktop\\4thmodule\\df_combined_info.csv')"
   ]
  },
  {
   "cell_type": "code",
   "execution_count": null,
   "id": "a691510c-894d-4548-b1cb-7fdcb8b0a4a3",
   "metadata": {},
   "outputs": [],
   "source": [
    "#     \"# Conduct Quantitative Analysis\\n\",\n",
    "#     \"#### Calculate and Plot the daily returns.\"\n",
    "#     \"# Plot daily returns of all portfolios\\n\"\n",
    "#     \"#### Calculate and Plot cumulative returns.\"\n",
    "#     \"# Calculate cumulative returns of all portfolios\\n\",\n",
    "#     \"# Plot cumulative returns\\n\"\n",
    "#     \"Determine the _risk_ of each portfolio:\\n\",\n",
    "#     \"1. Create a box plot for each portfolio. \\n\",\n",
    "#     \"2. Calculate the standard deviation for all portfolios\\n\",\n",
    "#     \"4. Determine which portfolios are riskier than the S&P 500\\n\",\n",
    "#     \"5. Calculate the Annualized Standard Deviation\"\n",
    "#     \"### Create a box plot for each portfolio\\n\"\n",
    "#     \"# Box plot to visually show risk\\n\"\n",
    "#     \"### Calculate Standard Deviations\"\n",
    "#     \"# Calculate the daily standard deviations of all portfolios\\n\"\n",
    "#     \"### Determine which portfolios are riskier than the S&P 500\"\n",
    "#     \"# Calculate  the daily standard deviation of S&P 500\\n\",\n",
    "#     \"# Determine which portfolios are riskier than the S&P 500\\n\"\n",
    "#     \"### Calculate the Annualized Standard Deviation\"\n",
    "#     \"# Calculate the annualized standard deviation (252 trading days)\\n\"\n",
    "#     \"## Rolling Statistics\\n\",\n",
    "#     \"Risk changes over time. Analyze the rolling statistics for Risk and Beta. \\n\",\n",
    "#     \"1. Calculate and plot the rolling standard deviation for all portfolios using a 21-day window\\n\",\n",
    "#     \"2. Calculate the correlation between each stock to determine which portfolios may mimick the S&P 500\\n\",\n",
    "#     \"3. Choose one portfolio, then calculate and plot the 60-day rolling beta between it and the S&P 500\"\n",
    "#     \"### Calculate and plot rolling `std` for all portfolios with 21-day window\"\n",
    "#     \"# Calculate the rolling standard deviation for all portfolios using a 21-day window\\n\",\n",
    "#     \"# Plot the rolling standard deviation\\n\"\n",
    "#     \"### Calculate and plot the correlation\"\n",
    "#     \"# Calculate the correlation\\n\",\n",
    "#     \"# Display de correlation matrix\\n\"\n",
    "#     \"### Calculate and Plot Beta for a chosen portfolio and the S&P 500\"\n",
    "#     \"# Calculate covariance of a single portfolio\\n\",\n",
    "#     \"# Calculate variance of S&P 500\\n\",\n",
    "#     \"# Computing beta\\n\",\n",
    "#     \"# Plot beta trend\\n\"\n",
    "#     \"## Rolling Statistics Challenge: Exponentially Weighted Average \\n\",\n",
    "#     \"An alternative way to calculate a rolling window is to take the exponentially weighted moving average. This is like a moving window average, but it assigns greater importance to more recent observations. Try calculating the [`ewm`](https://pandas.pydata.org/pandas-docs/stable/reference/api/pandas.DataFrame.ewm.html) with a 21-day half life for each portfolio, using standard deviation (`std`) as the metric of interest.\"\n",
    "#     \"# Use `ewm` to calculate the rolling window\\n\"\n",
    "#     \"# Sharpe Ratios\\n\",\n",
    "#     \"In reality, investment managers and thier institutional investors look at the ratio of return-to-risk, and not just returns alone. After all, if you could invest in one of two portfolios, and each offered the same 10% return, yet one offered lower risk, you'd take that one, right?\\n\",\n",
    "#     \"### Using the daily returns, calculate and visualize the Sharpe ratios using a bar plot\"\n",
    "#     \"# Annualized Sharpe Ratios\\n\"\n",
    "#     \"# Visualize the sharpe ratios as a bar plot\\n\"\n",
    "#     \"### Determine whether the algorithmic strategies outperform both the market (S&P 500) and the whales portfolios.\\n\",\n",
    "#     \"Write your answer here!\"\n",
    "#     \"# Create Custom Portfolio\\n\",\n",
    "#     \"In this section, you will build your own portfolio of stocks, calculate the returns, and compare the results to the Whale Portfolios and the S&P 500. \\n\",\n",
    "#     \"1. Choose 3-5 custom stocks with at last 1 year's worth of historic prices and create a DataFrame of the closing prices and dates for each stock.\\n\",\n",
    "#     \"2. Calculate the weighted returns for the portfolio assuming an equal number of shares for each stock\\n\",\n",
    "#     \"3. Join your portfolio returns to the DataFrame that contains all of the portfolio returns\\n\",\n",
    "#     \"4. Re-run the performance and risk analysis with your portfolio to see how it compares to the others\\n\",\n",
    "#     \"5. Include correlation analysis to determine which stocks (if any) are correlated\"\n",
    "#     \"## Choose 3-5 custom stocks with at last 1 year's worth of historic prices and create a DataFrame of the closing prices and dates for each stock.\"\n",
    "#     \"# Reading data from 1st stock\\n\"\n",
    "#     \"# Reading data from 2nd stock\\n\"\n",
    "#     \"# Reading data from 3rd stock\\n\"\n",
    "#     \"# Combine all stocks in a single DataFrame\\n\"\n",
    "#     \"# Reset Date index\\n\"\n",
    "#     \"# Reorganize portfolio data by having a column per symbol\\n\"\n",
    "#     \"# Calculate daily returns\\n\",\n",
    "#     \"# Display sample data\\n\"\n",
    "#     \"## Calculate the weighted returns for the portfolio assuming an equal number of shares for each stock\"\n",
    "#     \"# Set weights\\n\",\n",
    "#     \"weights = [1/3, 1/3, 1/3]\\n\",\n",
    "#     \"# Calculate portfolio return\\n\",\n",
    "#     \"# Display sample data\\n\"\n",
    "#     \"## Join your portfolio returns to the DataFrame that contains all of the portfolio returns\"\n",
    "#     \"# Join your returns DataFrame to the original returns DataFrame\\n\"\n",
    "#     \"# Only compare dates where return data exists for all the stocks (drop NaNs)\\n\"\n",
    "#     \"## Re-run the risk analysis with your portfolio to see how it compares to the others\"\n",
    "#     \"### Calculate the Annualized Standard Deviation\"\n",
    "#     \"# Calculate the annualized `std`\\n\"\n",
    "#     \"### Calculate and plot rolling `std` with 21-day window\"\n",
    "#     \"# Calculate rolling standard deviation\\n\",\n",
    "#     \"# Plot rolling standard deviation\\n\"\n",
    "#     \"### Calculate and plot the correlation\"\n",
    "#     \"# Calculate and plot the correlation\\n\"\n",
    "#     \"### Calculate and Plot Rolling 60-day Beta for Your Portfolio compared to the S&P 500\"\n",
    "#     \"# Calculate and plot Beta\\n\"\n",
    "#     \"### Using the daily returns, calculate and visualize the Sharpe ratios using a bar plot\"\n",
    "#     \"# Calculate Annualized Sharpe Ratios\\n\"\n",
    "#     \"# Visualize the sharpe ratios as a bar plot\\n\"\n",
    "#     \"### How does your portfolio do?\\n\",\n",
    "#     \"Write your answer here!\""
   ]
  }
 ],
 "metadata": {
  "kernelspec": {
   "display_name": "Python 3 (ipykernel)",
   "language": "python",
   "name": "python3"
  },
  "language_info": {
   "codemirror_mode": {
    "name": "ipython",
    "version": 3
   },
   "file_extension": ".py",
   "mimetype": "text/x-python",
   "name": "python",
   "nbconvert_exporter": "python",
   "pygments_lexer": "ipython3",
   "version": "3.7.13"
  }
 },
 "nbformat": 4,
 "nbformat_minor": 5
}
